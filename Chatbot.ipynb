{
  "nbformat": 4,
  "nbformat_minor": 0,
  "metadata": {
    "colab": {
      "provenance": [],
      "authorship_tag": "ABX9TyMkO39pVydi81vKgnAGycAQ",
      "include_colab_link": true
    },
    "kernelspec": {
      "name": "python3",
      "display_name": "Python 3"
    },
    "language_info": {
      "name": "python"
    }
  },
  "cells": [
    {
      "cell_type": "markdown",
      "metadata": {
        "id": "view-in-github",
        "colab_type": "text"
      },
      "source": [
        "<a href=\"https://colab.research.google.com/github/pranjalp31/pranjalp31/blob/main/Chatbot.ipynb\" target=\"_parent\"><img src=\"https://colab.research.google.com/assets/colab-badge.svg\" alt=\"Open In Colab\"/></a>"
      ]
    },
    {
      "cell_type": "code",
      "source": [
        "import requests\n",
        "\n",
        "def get_currency_conversion_rate(from_currency, to_currency):\n",
        "    api_key = '12fa181467710d1994bb1aa1'\n",
        "    url = f\"https://v6.exchangerate-api.com/v6/{api_key}/pair/{from_currency}/{to_currency}\"\n",
        "    response = requests.get(url)\n",
        "    data = response.json()\n",
        "    if response.status_code == 200:\n",
        "        return data['conversion_rate']\n",
        "    else:\n",
        "        return None\n",
        "\n",
        "def convert_currency(amount, from_currency, to_currency):\n",
        "    conversion_rate = get_currency_conversion_rate(from_currency, to_currency)\n",
        "    if conversion_rate:\n",
        "        converted_amount = amount * conversion_rate\n",
        "        return converted_amount\n",
        "    else:\n",
        "        return None\n",
        "\n",
        "def main():\n",
        "    print(\"Welcome to Currency Converter Bot!\")\n",
        "    while True:\n",
        "        amount = float(input(\"Enter the amount to convert: \"))\n",
        "        from_currency = input(\"Enter the currency to convert from (e.g., USD): \").upper()\n",
        "        to_currency = input(\"Enter the currency to convert to (e.g., EUR): \").upper()\n",
        "\n",
        "        converted_amount = convert_currency(amount, from_currency, to_currency)\n",
        "        if converted_amount:\n",
        "            print(f\"{amount} {from_currency} is equal to {converted_amount} {to_currency}\")\n",
        "        else:\n",
        "            print(\"Failed to convert currency. Please check your input.\")\n",
        "\n",
        "        choice = input(\"Do you want to convert another currency? (yes/no): \").lower()\n",
        "        if choice != 'yes':\n",
        "            print(\"Thank you for using Currency Converter Bot!\")\n",
        "            break\n",
        "\n",
        "if __name__ == \"__main__\":\n",
        "    main()\n"
      ],
      "metadata": {
        "colab": {
          "base_uri": "https://localhost:8080/"
        },
        "id": "5fT3QsJ8eCYA",
        "outputId": "2e0d634e-d343-4fd2-dd7a-bb9752f741b7"
      },
      "execution_count": 3,
      "outputs": [
        {
          "output_type": "stream",
          "name": "stdout",
          "text": [
            "Welcome to Currency Converter Bot!\n",
            "Enter the amount to convert: 100\n",
            "Enter the currency to convert from (e.g., USD): usd\n",
            "Enter the currency to convert to (e.g., EUR): eur\n",
            "100.0 USD is equal to 92.17 EUR\n",
            "Do you want to convert another currency? (yes/no): no\n",
            "Thank you for using Currency Converter Bot!\n"
          ]
        }
      ]
    }
  ]
}