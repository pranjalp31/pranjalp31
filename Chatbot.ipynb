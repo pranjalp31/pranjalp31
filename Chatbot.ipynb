import requests

def get_currency_conversion_rate(from_currency, to_currency):
    api_key = '12fa181467710d1994bb1aa1'
    url = f"https://v6.exchangerate-api.com/v6/{api_key}/pair/{from_currency}/{to_currency}"
    response = requests.get(url)
    data = response.json()
    if response.status_code == 200:
        return data['conversion_rate']
    else:
        return None

def convert_currency(amount, from_currency, to_currency):
    conversion_rate = get_currency_conversion_rate(from_currency, to_currency)
    if conversion_rate:
        converted_amount = amount * conversion_rate
        return converted_amount
    else:
        return None

def main():
    print("Welcome to Currency Converter Bot!")
    while True:
        amount = float(input("Enter the amount to convert: "))
        from_currency = input("Enter the currency to convert from (e.g., USD): ").upper()
        to_currency = input("Enter the currency to convert to (e.g., EUR): ").upper()

        converted_amount = convert_currency(amount, from_currency, to_currency)
        if converted_amount:
            print(f"{amount} {from_currency} is equal to {converted_amount} {to_currency}")
        else:
            print("Failed to convert currency. Please check your input.")

        choice = input("Do you want to convert another currency? (yes/no): ").lower()
        if choice != 'yes':
            print("Thank you for using Currency Converter Bot!")
            break

if __name__ == "__main__":
    main()
